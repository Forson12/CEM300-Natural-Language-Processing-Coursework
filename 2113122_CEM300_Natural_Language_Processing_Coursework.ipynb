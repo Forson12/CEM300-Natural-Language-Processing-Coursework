{
  "nbformat": 4,
  "nbformat_minor": 0,
  "metadata": {
    "colab": {
      "provenance": [],
      "authorship_tag": "ABX9TyMjZCyjHV5y7/DK2yhtcDfq",
      "include_colab_link": true
    },
    "kernelspec": {
      "name": "python3",
      "display_name": "Python 3"
    },
    "language_info": {
      "name": "python"
    }
  },
  "cells": [
    {
      "cell_type": "markdown",
      "metadata": {
        "id": "view-in-github",
        "colab_type": "text"
      },
      "source": [
        "<a href=\"https://colab.research.google.com/github/Forson12/CEM300-Natural-Language-Processing-Coursework/blob/main/2113122_CEM300_Natural_Language_Processing_Coursework.ipynb\" target=\"_parent\"><img src=\"https://colab.research.google.com/assets/colab-badge.svg\" alt=\"Open In Colab\"/></a>"
      ]
    },
    {
      "cell_type": "markdown",
      "source": [
        "#CEM300-Natural-Language-Processing-Coursework\n",
        "\n",
        "In this work, I explore the Product Classification and Clustering Dataset.\n",
        "\n",
        "<br>\n",
        "Sources && Frameworks:\n",
        "\n",
        "Dataset Chosen - https://archive.ics.uci.edu/dataset/837/product+classification+and+clustering\n",
        "\n",
        "<br>\n",
        "\n"
      ],
      "metadata": {
        "id": "-bgl68QTD83F"
      }
    },
    {
      "cell_type": "markdown",
      "source": [
        "\n",
        "--\n",
        "##Task 1: Implementing the kNN Algorithm\n",
        "\n",
        "<br>\n",
        "\n",
        "The following task will depict the process of building an implementation using scikit-learn framework on the Product Dataset.\n",
        "\n",
        "<br>\n",
        "\n",
        "####Task 1.1: Loading the the Price Runner Dataset\n",
        "\n",
        "\n",
        "The first task will be to load the dataset."
      ],
      "metadata": {
        "id": "5iiLHysUH-ZS"
      }
    },
    {
      "cell_type": "code",
      "source": [
        "import pandas as pd #pandas to view data in dataframes\n",
        "import io #io is used to load the data after uploading\n",
        "from google.colab import files #we import the files package from google.colab framework to be able to upload files\n",
        "\n",
        "uploaded = files.upload() #The upload fucntion gives us the opportunity to load a file into the script"
      ],
      "metadata": {
        "id": "TpPg2wdMD90M",
        "colab": {
          "base_uri": "https://localhost:8080/",
          "height": 35
        },
        "outputId": "261b892d-319e-454f-e394-94efd2b6ae57"
      },
      "execution_count": null,
      "outputs": [
        {
          "output_type": "display_data",
          "data": {
            "text/plain": [
              "<IPython.core.display.HTML object>"
            ],
            "text/html": [
              "\n",
              "     <input type=\"file\" id=\"files-62aba98a-e5bf-4953-abbf-f04d16b392b8\" name=\"files[]\" multiple disabled\n",
              "        style=\"border:none\" />\n",
              "     <output id=\"result-62aba98a-e5bf-4953-abbf-f04d16b392b8\">\n",
              "      Upload widget is only available when the cell has been executed in the\n",
              "      current browser session. Please rerun this cell to enable.\n",
              "      </output>\n",
              "      <script>// Copyright 2017 Google LLC\n",
              "//\n",
              "// Licensed under the Apache License, Version 2.0 (the \"License\");\n",
              "// you may not use this file except in compliance with the License.\n",
              "// You may obtain a copy of the License at\n",
              "//\n",
              "//      http://www.apache.org/licenses/LICENSE-2.0\n",
              "//\n",
              "// Unless required by applicable law or agreed to in writing, software\n",
              "// distributed under the License is distributed on an \"AS IS\" BASIS,\n",
              "// WITHOUT WARRANTIES OR CONDITIONS OF ANY KIND, either express or implied.\n",
              "// See the License for the specific language governing permissions and\n",
              "// limitations under the License.\n",
              "\n",
              "/**\n",
              " * @fileoverview Helpers for google.colab Python module.\n",
              " */\n",
              "(function(scope) {\n",
              "function span(text, styleAttributes = {}) {\n",
              "  const element = document.createElement('span');\n",
              "  element.textContent = text;\n",
              "  for (const key of Object.keys(styleAttributes)) {\n",
              "    element.style[key] = styleAttributes[key];\n",
              "  }\n",
              "  return element;\n",
              "}\n",
              "\n",
              "// Max number of bytes which will be uploaded at a time.\n",
              "const MAX_PAYLOAD_SIZE = 100 * 1024;\n",
              "\n",
              "function _uploadFiles(inputId, outputId) {\n",
              "  const steps = uploadFilesStep(inputId, outputId);\n",
              "  const outputElement = document.getElementById(outputId);\n",
              "  // Cache steps on the outputElement to make it available for the next call\n",
              "  // to uploadFilesContinue from Python.\n",
              "  outputElement.steps = steps;\n",
              "\n",
              "  return _uploadFilesContinue(outputId);\n",
              "}\n",
              "\n",
              "// This is roughly an async generator (not supported in the browser yet),\n",
              "// where there are multiple asynchronous steps and the Python side is going\n",
              "// to poll for completion of each step.\n",
              "// This uses a Promise to block the python side on completion of each step,\n",
              "// then passes the result of the previous step as the input to the next step.\n",
              "function _uploadFilesContinue(outputId) {\n",
              "  const outputElement = document.getElementById(outputId);\n",
              "  const steps = outputElement.steps;\n",
              "\n",
              "  const next = steps.next(outputElement.lastPromiseValue);\n",
              "  return Promise.resolve(next.value.promise).then((value) => {\n",
              "    // Cache the last promise value to make it available to the next\n",
              "    // step of the generator.\n",
              "    outputElement.lastPromiseValue = value;\n",
              "    return next.value.response;\n",
              "  });\n",
              "}\n",
              "\n",
              "/**\n",
              " * Generator function which is called between each async step of the upload\n",
              " * process.\n",
              " * @param {string} inputId Element ID of the input file picker element.\n",
              " * @param {string} outputId Element ID of the output display.\n",
              " * @return {!Iterable<!Object>} Iterable of next steps.\n",
              " */\n",
              "function* uploadFilesStep(inputId, outputId) {\n",
              "  const inputElement = document.getElementById(inputId);\n",
              "  inputElement.disabled = false;\n",
              "\n",
              "  const outputElement = document.getElementById(outputId);\n",
              "  outputElement.innerHTML = '';\n",
              "\n",
              "  const pickedPromise = new Promise((resolve) => {\n",
              "    inputElement.addEventListener('change', (e) => {\n",
              "      resolve(e.target.files);\n",
              "    });\n",
              "  });\n",
              "\n",
              "  const cancel = document.createElement('button');\n",
              "  inputElement.parentElement.appendChild(cancel);\n",
              "  cancel.textContent = 'Cancel upload';\n",
              "  const cancelPromise = new Promise((resolve) => {\n",
              "    cancel.onclick = () => {\n",
              "      resolve(null);\n",
              "    };\n",
              "  });\n",
              "\n",
              "  // Wait for the user to pick the files.\n",
              "  const files = yield {\n",
              "    promise: Promise.race([pickedPromise, cancelPromise]),\n",
              "    response: {\n",
              "      action: 'starting',\n",
              "    }\n",
              "  };\n",
              "\n",
              "  cancel.remove();\n",
              "\n",
              "  // Disable the input element since further picks are not allowed.\n",
              "  inputElement.disabled = true;\n",
              "\n",
              "  if (!files) {\n",
              "    return {\n",
              "      response: {\n",
              "        action: 'complete',\n",
              "      }\n",
              "    };\n",
              "  }\n",
              "\n",
              "  for (const file of files) {\n",
              "    const li = document.createElement('li');\n",
              "    li.append(span(file.name, {fontWeight: 'bold'}));\n",
              "    li.append(span(\n",
              "        `(${file.type || 'n/a'}) - ${file.size} bytes, ` +\n",
              "        `last modified: ${\n",
              "            file.lastModifiedDate ? file.lastModifiedDate.toLocaleDateString() :\n",
              "                                    'n/a'} - `));\n",
              "    const percent = span('0% done');\n",
              "    li.appendChild(percent);\n",
              "\n",
              "    outputElement.appendChild(li);\n",
              "\n",
              "    const fileDataPromise = new Promise((resolve) => {\n",
              "      const reader = new FileReader();\n",
              "      reader.onload = (e) => {\n",
              "        resolve(e.target.result);\n",
              "      };\n",
              "      reader.readAsArrayBuffer(file);\n",
              "    });\n",
              "    // Wait for the data to be ready.\n",
              "    let fileData = yield {\n",
              "      promise: fileDataPromise,\n",
              "      response: {\n",
              "        action: 'continue',\n",
              "      }\n",
              "    };\n",
              "\n",
              "    // Use a chunked sending to avoid message size limits. See b/62115660.\n",
              "    let position = 0;\n",
              "    do {\n",
              "      const length = Math.min(fileData.byteLength - position, MAX_PAYLOAD_SIZE);\n",
              "      const chunk = new Uint8Array(fileData, position, length);\n",
              "      position += length;\n",
              "\n",
              "      const base64 = btoa(String.fromCharCode.apply(null, chunk));\n",
              "      yield {\n",
              "        response: {\n",
              "          action: 'append',\n",
              "          file: file.name,\n",
              "          data: base64,\n",
              "        },\n",
              "      };\n",
              "\n",
              "      let percentDone = fileData.byteLength === 0 ?\n",
              "          100 :\n",
              "          Math.round((position / fileData.byteLength) * 100);\n",
              "      percent.textContent = `${percentDone}% done`;\n",
              "\n",
              "    } while (position < fileData.byteLength);\n",
              "  }\n",
              "\n",
              "  // All done.\n",
              "  yield {\n",
              "    response: {\n",
              "      action: 'complete',\n",
              "    }\n",
              "  };\n",
              "}\n",
              "\n",
              "scope.google = scope.google || {};\n",
              "scope.google.colab = scope.google.colab || {};\n",
              "scope.google.colab._files = {\n",
              "  _uploadFiles,\n",
              "  _uploadFilesContinue,\n",
              "};\n",
              "})(self);\n",
              "</script> "
            ]
          },
          "metadata": {}
        }
      ]
    },
    {
      "cell_type": "code",
      "execution_count": 4,
      "metadata": {
        "id": "KDezaXXZD0dv",
        "colab": {
          "base_uri": "https://localhost:8080/"
        },
        "outputId": "dac2a60c-0851-4c29-878f-addd87c7802a"
      },
      "outputs": [
        {
          "output_type": "stream",
          "name": "stdout",
          "text": [
            "                0                                                  1  \\\n",
            "0      Product ID                                      Product Title   \n",
            "1               1                    apple iphone 8 plus 64gb silver   \n",
            "2               2                apple iphone 8 plus 64 gb spacegrau   \n",
            "3               3  apple mq8n2b/a iphone 8 plus 64gb 5.5 12mp sim...   \n",
            "4               4                apple iphone 8 plus 64gb space grey   \n",
            "...           ...                                                ...   \n",
            "35307       47350  smeg fab28 60cm retro style right hand hinge f...   \n",
            "35308       47351  smeg fab28 60cm retro style left hand hinge fr...   \n",
            "35309       47352  smeg fab28 60cm retro style left hand hinge fr...   \n",
            "35310       47355     candy 60cm built under larder fridge cru160nek   \n",
            "35311       47358           neff k4316x7gb built under larder fridge   \n",
            "\n",
            "                  2            3                         4             5  \\\n",
            "0       Merchant ID   Cluster ID             Cluster Label   Category ID   \n",
            "1                 1            1  Apple iPhone 8 Plus 64GB          2612   \n",
            "2                 2            1  Apple iPhone 8 Plus 64GB          2612   \n",
            "3                 3            1  Apple iPhone 8 Plus 64GB          2612   \n",
            "4                 4            1  Apple iPhone 8 Plus 64GB          2612   \n",
            "...             ...          ...                       ...           ...   \n",
            "35307            59        47517          Smeg FAB28 Cream          2623   \n",
            "35308            59        47518            Smeg FAB28 Red          2623   \n",
            "35309            59        47519           Smeg FAB28 Pink          2623   \n",
            "35310           125        47524             Candy CRU16.0          2623   \n",
            "35311           179        47525                Neff K4316          2623   \n",
            "\n",
            "                     6  \n",
            "0       Category Label  \n",
            "1        Mobile Phones  \n",
            "2        Mobile Phones  \n",
            "3        Mobile Phones  \n",
            "4        Mobile Phones  \n",
            "...                ...  \n",
            "35307          Fridges  \n",
            "35308          Fridges  \n",
            "35309          Fridges  \n",
            "35310          Fridges  \n",
            "35311          Fridges  \n",
            "\n",
            "[35312 rows x 7 columns]\n"
          ]
        }
      ],
      "source": [
        "product_file = io.BytesIO(uploaded['pricerunner_aggregate.csv'])\n",
        "product_df = pd.read_csv(product_file, header=None)\n",
        "print(product_df)"
      ]
    },
    {
      "cell_type": "markdown",
      "source": [
        "The dataframe tells us a lot of useful information about the price runner dataset just uploaded.\n",
        "Examples include:\n",
        "1. There are 7 columns (6 features and 11 unique labels)\n",
        "2. 35312 rows (as there is no header, this means there are 35312 examples in this dataset)\n",
        "3. It has Columns including: Product ID, Merchant ID etc."
      ],
      "metadata": {
        "id": "NbiWWLHDSDl7"
      }
    },
    {
      "cell_type": "markdown",
      "source": [
        "Next we will store the data in dataframes. This is particularly useful because it has inbuilt functionality to help us deal with missing values.\n",
        "\n",
        "For this, I will convert the dataframe to an array to amke things cleaner and clearer."
      ],
      "metadata": {
        "id": "Pp2DFFU3Uoli"
      }
    },
    {
      "cell_type": "code",
      "source": [],
      "metadata": {
        "id": "rDLI1ILuSDQ9"
      },
      "execution_count": null,
      "outputs": []
    },
    {
      "cell_type": "markdown",
      "source": [],
      "metadata": {
        "id": "b3QddHt3SCvR"
      }
    }
  ]
}