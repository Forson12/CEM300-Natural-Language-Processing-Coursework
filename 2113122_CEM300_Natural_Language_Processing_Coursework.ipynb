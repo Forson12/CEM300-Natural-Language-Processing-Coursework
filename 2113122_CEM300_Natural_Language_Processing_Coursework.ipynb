{
  "nbformat": 4,
  "nbformat_minor": 0,
  "metadata": {
    "colab": {
      "provenance": []
    },
    "kernelspec": {
      "name": "python3",
      "display_name": "Python 3"
    },
    "language_info": {
      "name": "python"
    }
  },
  "cells": [
    {
      "cell_type": "markdown",
      "source": [
        "#CEM300-Natural-Language-Processing-Coursework\n",
        "\n",
        "In this work, I explore the Product Classification and Clustering Dataset.\n",
        "\n",
        "<br>\n",
        "Sources:\n",
        "\n",
        "Dataset Chosen - https://archive.ics.uci.edu/dataset/837/product+classification+and+clustering\n",
        "\n",
        "<br>\n",
        "\n"
      ],
      "metadata": {
        "id": "-bgl68QTD83F"
      }
    },
    {
      "cell_type": "markdown",
      "source": [
        "\n",
        "The first task is to implement"
      ],
      "metadata": {
        "id": "5iiLHysUH-ZS"
      }
    },
    {
      "cell_type": "code",
      "source": [],
      "metadata": {
        "id": "TpPg2wdMD90M"
      },
      "execution_count": null,
      "outputs": []
    },
    {
      "cell_type": "code",
      "execution_count": null,
      "metadata": {
        "id": "KDezaXXZD0dv"
      },
      "outputs": [],
      "source": []
    }
  ]
}