{
  "nbformat": 4,
  "nbformat_minor": 0,
  "metadata": {
    "colab": {
      "provenance": [],
      "authorship_tag": "ABX9TyMDMJWzLzW1Lu//2fHvyOMo",
      "include_colab_link": true
    },
    "kernelspec": {
      "name": "python3",
      "display_name": "Python 3"
    },
    "language_info": {
      "name": "python"
    }
  },
  "cells": [
    {
      "cell_type": "markdown",
      "metadata": {
        "id": "view-in-github",
        "colab_type": "text"
      },
      "source": [
        "<a href=\"https://colab.research.google.com/github/Forson12/CEM300-Natural-Language-Processing-Coursework/blob/main/2113122_CEM300_Natural_Language_Processing_Coursework.ipynb\" target=\"_parent\"><img src=\"https://colab.research.google.com/assets/colab-badge.svg\" alt=\"Open In Colab\"/></a>"
      ]
    },
    {
      "cell_type": "markdown",
      "source": [
        "#CEM300-Natural-Language-Processing-Coursework\n",
        "\n",
        "In this work, I explore the Product Classification and Clustering Dataset.\n",
        "\n",
        "<br>\n",
        "Sources && Frameworks:\n",
        "\n",
        "Dataset Chosen - https://archive.ics.uci.edu/dataset/837/product+classification+and+clustering\n",
        "\n",
        "<br>\n",
        "\n"
      ],
      "metadata": {
        "id": "-bgl68QTD83F"
      }
    },
    {
      "cell_type": "markdown",
      "source": [
        "\n",
        "--\n",
        "##Task 1: Implementing the kNN Algorithm\n",
        "\n",
        "<br>\n",
        "\n",
        "The following task will depict the process of building an implementation using scikit-learn framework on the Product Dataset.\n",
        "\n",
        "<br>\n",
        "\n",
        "####Task 1.1: Loading the the Product Classification and Clustering Dataset\n",
        "\n",
        "\n",
        "The first task will be to load the dataset."
      ],
      "metadata": {
        "id": "5iiLHysUH-ZS"
      }
    },
    {
      "cell_type": "code",
      "source": [],
      "metadata": {
        "id": "TpPg2wdMD90M"
      },
      "execution_count": null,
      "outputs": []
    },
    {
      "cell_type": "code",
      "execution_count": null,
      "metadata": {
        "id": "KDezaXXZD0dv"
      },
      "outputs": [],
      "source": []
    }
  ]
}